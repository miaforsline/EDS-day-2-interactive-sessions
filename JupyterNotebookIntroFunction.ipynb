{
 "cells": [
  {
   "cell_type": "markdown",
   "id": "e326a710",
   "metadata": {},
   "source": [
    "## Introduction to Jupyter Notebooks \n",
    "\n",
    "### Mia Forsline\n",
    "\n",
    "#### EDS 212 (8/3/2021) \n",
    "\n",
    "- bulletpoints \n",
    "#similar to RMD \n"
   ]
  },
  {
   "cell_type": "code",
   "execution_count": 1,
   "id": "b996d199",
   "metadata": {},
   "outputs": [],
   "source": [
    "teddy = 10 \n",
    "# = rather than <- "
   ]
  },
  {
   "cell_type": "code",
   "execution_count": 2,
   "id": "61fc74de",
   "metadata": {},
   "outputs": [
    {
     "data": {
      "text/plain": [
       "10"
      ]
     },
     "execution_count": 2,
     "metadata": {},
     "output_type": "execute_result"
    }
   ],
   "source": [
    "teddy"
   ]
  },
  {
   "cell_type": "code",
   "execution_count": 3,
   "id": "de2a2268",
   "metadata": {},
   "outputs": [
    {
     "data": {
      "text/plain": [
       "30"
      ]
     },
     "execution_count": 3,
     "metadata": {},
     "output_type": "execute_result"
    }
   ],
   "source": [
    "teddy + 20"
   ]
  },
  {
   "cell_type": "code",
   "execution_count": 4,
   "id": "c9868389",
   "metadata": {},
   "outputs": [],
   "source": [
    "#to create a function, use def rather than function() in R\n",
    "#def function_name (arguments): \n",
    "#: instead of {}\n",
    "#automated indentations are important/finicky \n",
    "def my_sum(apples, bananas): \n",
    "    fruit_total = apples + bananas \n",
    "    print(fruit_total)"
   ]
  },
  {
   "cell_type": "code",
   "execution_count": 5,
   "id": "88dd2db9",
   "metadata": {},
   "outputs": [
    {
     "name": "stdout",
     "output_type": "stream",
     "text": [
      "32\n"
     ]
    }
   ],
   "source": [
    "my_sum(apples = 14, bananas = 18)"
   ]
  },
  {
   "cell_type": "code",
   "execution_count": null,
   "id": "13807736",
   "metadata": {},
   "outputs": [],
   "source": []
  }
 ],
 "metadata": {
  "kernelspec": {
   "display_name": "Python 3",
   "language": "python",
   "name": "python3"
  },
  "language_info": {
   "codemirror_mode": {
    "name": "ipython",
    "version": 3
   },
   "file_extension": ".py",
   "mimetype": "text/x-python",
   "name": "python",
   "nbconvert_exporter": "python",
   "pygments_lexer": "ipython3",
   "version": "3.8.8"
  }
 },
 "nbformat": 4,
 "nbformat_minor": 5
}
